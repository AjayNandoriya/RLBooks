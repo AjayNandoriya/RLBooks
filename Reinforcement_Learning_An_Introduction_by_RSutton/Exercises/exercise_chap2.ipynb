{
  "nbformat": 4,
  "nbformat_minor": 0,
  "metadata": {
    "colab": {
      "name": "exercise_chap2.ipynb",
      "provenance": [],
      "authorship_tag": "ABX9TyMvcaGFjL69/67vmAEM6X9/",
      "include_colab_link": true
    },
    "kernelspec": {
      "name": "python3",
      "display_name": "Python 3"
    }
  },
  "cells": [
    {
      "cell_type": "markdown",
      "metadata": {
        "id": "view-in-github",
        "colab_type": "text"
      },
      "source": [
        "<a href=\"https://colab.research.google.com/github/AjayNandoriya/RLBooks/blob/master/Reinforcement_Learning_An_Introduction_by_RSutton/Exercises/exercise_chap2.ipynb\" target=\"_parent\"><img src=\"https://colab.research.google.com/assets/colab-badge.svg\" alt=\"Open In Colab\"/></a>"
      ]
    },
    {
      "cell_type": "code",
      "metadata": {
        "id": "9F29TK5QiGO6",
        "colab_type": "code",
        "colab": {}
      },
      "source": [
        ""
      ],
      "execution_count": 0,
      "outputs": []
    },
    {
      "cell_type": "markdown",
      "metadata": {
        "id": "kYPpTkR8iJiw",
        "colab_type": "text"
      },
      "source": [
        "*Exercise 2.1* **In \"-greedy action selection, for the case of two actions and \" =0 .5, what is the probability that the greedy action is selected?**"
      ]
    },
    {
      "cell_type": "markdown",
      "metadata": {
        "id": "nTvJdbZoiLgm",
        "colab_type": "text"
      },
      "source": [
        "Answer 2.1"
      ]
    },
    {
      "cell_type": "markdown",
      "metadata": {
        "id": "3WehECDYiMEY",
        "colab_type": "text"
      },
      "source": [
        "2.2 **Bandit example Consider a k-armed bandit problem with k = 4 actions, denoted 1, 2, 3, and 4. Consider applying to this problem a bandit algorithm using \"-greedy action selection, sample-average action-value estimates, and initial estimates of Q1(a) = 0, for all a. Suppose the initial sequence of actions and rewards is A1 = 1, R1 =1, A2 = 2, R2 = 1, A3 = 2, R3 =2, A4 = 2, R4 = 2, A5 = 3, R5 = 0. On some of these time steps the \" case may have occurred, causing an action to be selected at random. On which time steps did this deﬁnitely occur? On which time steps could this possibly have occurred?**\n"
      ]
    },
    {
      "cell_type": "markdown",
      "metadata": {
        "id": "oxsErFdziQ9o",
        "colab_type": "text"
      },
      "source": [
        ""
      ]
    },
    {
      "cell_type": "markdown",
      "metadata": {
        "id": "R-6CKnyCiRHY",
        "colab_type": "text"
      },
      "source": [
        "3. **In the comparison shown in Figure 2.2, which method will perform best in the long run in terms of cumulative reward and probability of selecting the best action? How much better will it be? Express your answer quantitatively.**\n"
      ]
    },
    {
      "cell_type": "markdown",
      "metadata": {
        "id": "VfvBQregiHw5",
        "colab_type": "text"
      },
      "source": [
        ""
      ]
    }
  ]
}