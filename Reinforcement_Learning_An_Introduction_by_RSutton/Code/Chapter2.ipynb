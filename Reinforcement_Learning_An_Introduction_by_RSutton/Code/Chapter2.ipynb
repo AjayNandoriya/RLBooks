{
  "nbformat": 4,
  "nbformat_minor": 0,
  "metadata": {
    "colab": {
      "name": "Chapter2.ipynb",
      "provenance": [],
      "authorship_tag": "ABX9TyMJuKCjeH0QLu5hgcKsxuGA",
      "include_colab_link": true
    },
    "kernelspec": {
      "name": "python3",
      "display_name": "Python 3"
    }
  },
  "cells": [
    {
      "cell_type": "markdown",
      "metadata": {
        "id": "view-in-github",
        "colab_type": "text"
      },
      "source": [
        "<a href=\"https://colab.research.google.com/github/AjayNandoriya/RLBooks/blob/master/Reinforcement_Learning_An_Introduction_by_RSutton/Code/Chapter2.ipynb\" target=\"_parent\"><img src=\"https://colab.research.google.com/assets/colab-badge.svg\" alt=\"Open In Colab\"/></a>"
      ]
    },
    {
      "cell_type": "code",
      "metadata": {
        "id": "VBFnwCBd730h",
        "colab_type": "code",
        "colab": {
          "base_uri": "https://localhost:8080/",
          "height": 381
        },
        "outputId": "b89f4712-2060-403e-ba0a-28a64e41186a"
      },
      "source": [
        "from matplotlib import pyplot as plt\n",
        "import tensorflow as tf\n",
        "import numpy as np\n",
        "\n",
        "\n",
        "K = 10\n",
        "global K_bandit_means\n",
        "global K_bandit_vars\n",
        "\n",
        "K_bandit_means = tf.random.uniform([K], 0, 2, tf.float32).numpy()\n",
        "K_bandit_vars =  tf.random.uniform([K],0.1, 1, tf.float32).numpy()\n",
        "\n",
        "x = np.arange(0,10)\n",
        "# print(x.shape, K_bandit_means.shape)\n",
        "plt.errorbar(x, K_bandit_means, yerr=K_bandit_vars, fmt='.k')\n",
        "plt.grid(True)\n",
        "plt.title(\"Bandit Values\")\n",
        "\n",
        "def get_kth_bandit(k):\n",
        "  # print(K_bandit_means.shape)\n",
        "  val = tf.random.normal([1], K_bandit_means[k], K_bandit_vars[k], tf.float32).numpy()\n",
        "  # print(val)\n",
        "  return val\n",
        "  \n",
        "\n",
        "T = 1000\n",
        "vals = np.zeros((K,T))\n",
        "for k in range(K):\n",
        "  for t in range(T):\n",
        "    vals[k,t] = get_kth_bandit(k)\n",
        "\n",
        "q_mean = np.mean(vals,axis=1)\n",
        "q_std = np.std(vals, axis=1)\n",
        "\n",
        "print(q_mean, q_std)\n",
        "print(K_bandit_means, K_bandit_vars)"
      ],
      "execution_count": 25,
      "outputs": [
        {
          "output_type": "stream",
          "text": [
            "[1.45053046 0.25549218 0.55656233 0.8177176  0.03424681 1.24148839\n",
            " 0.80659681 0.43705813 1.00382836 0.38333468] [0.82779041 0.58756646 0.38347883 0.59979563 0.41258981 0.80264331\n",
            " 0.75297759 0.87258822 0.15797625 0.31771076]\n",
            "[1.4217489  0.2654376  0.54407024 0.8282423  0.04768038 1.2321141\n",
            " 0.8501394  0.47880268 1.0044949  0.3967774 ] [0.83289057 0.6139224  0.37383753 0.5866643  0.41467342 0.823012\n",
            " 0.74582285 0.8908649  0.15955791 0.3211022 ]\n"
          ],
          "name": "stdout"
        },
        {
          "output_type": "display_data",
          "data": {
            "image/png": "[encoded data removed]",
            "text/plain": [
              "<Figure size 432x288 with 1 Axes>"
            ]
          },
          "metadata": {
            "tags": [],
            "needs_background": "light"
          }
        }
      ]
    }
  ]
}